{
 "cells": [
  {
   "cell_type": "markdown",
   "metadata": {},
   "source": [
    "# Read and Standardize Mutation Information\n",
    "This notebook reads a .csv file with one mutation per line. This notebook is a template that you can modify for your specific use case.\n",
    "\n",
    "For subsequent analysis, the input file must contain at least the following 3 fields:\n",
    "* **var_id** with the genomic location using the [HGVS sequence variant nomenclature]\n",
    "(http://varnomen.hgvs.org/recommendations/general/) but without the \"chr\" prefix, e.g. 5:g.149440497C>T\n",
    "* **annotation** short label, e.g., cancer type\n",
    "* **color** color for visualization ([list of colors](https://github.com/3dmol/3Dmol.js/blob/master/3Dmol/colors.js#L45-L192)), e.g., to color by cancer type\n",
    "\n",
    "This notebook is an example that standardizes the variant nomenclature\n",
    "1. Read the file with your mutation information\n",
    "2. Create a column 'var_id' with the genomic location, e.g. 5:g.149440497C>T\n",
    "3. Filter out any variations that are not SNPs\n",
    "4. Save the file as 'mutations.csv'\n",
    "\n",
    "The mutations.csv file is the input for the next step: MapTo3DStructures"
   ]
  },
  {
   "cell_type": "code",
   "execution_count": 1,
   "metadata": {},
   "outputs": [],
   "source": [
    "import pandas as pd"
   ]
  },
  {
   "cell_type": "markdown",
   "metadata": {},
   "source": [
    "#### Input parameters (specify your input file name below)"
   ]
  },
  {
   "cell_type": "code",
   "execution_count": 2,
   "metadata": {},
   "outputs": [],
   "source": [
    "input_file_name = \"../data/var_ids_to_map.csv\"\n",
    "\n",
    "#input_file_name = <path to your input file> # mutation info (chromosome number and position required)\n",
    "\n",
    "output_file_name = 'mutations.csv' # contains mutation info in standard format (e.g., 5:g.149440497C>T)"
   ]
  },
  {
   "cell_type": "markdown",
   "metadata": {},
   "source": [
    "## Read input file and remove mutations that are not SNVs"
   ]
  },
  {
   "cell_type": "code",
   "execution_count": 3,
   "metadata": {},
   "outputs": [],
   "source": [
    "df = pd.read_csv(input_file_name)\n",
    "pd.options.display.max_columns = None # show all columns"
   ]
  },
  {
   "cell_type": "code",
   "execution_count": 4,
   "metadata": {},
   "outputs": [],
   "source": [
    "df['var_id'] = df['var_id'].str.replace('chr', '')"
   ]
  },
  {
   "cell_type": "markdown",
   "metadata": {},
   "source": [
    "Add color and annotation column"
   ]
  },
  {
   "cell_type": "code",
   "execution_count": 5,
   "metadata": {},
   "outputs": [],
   "source": [
    "df['color'] = 'red'\n",
    "df['annotation'] = df['Hugo_Symbol']"
   ]
  },
  {
   "cell_type": "code",
   "execution_count": 6,
   "metadata": {},
   "outputs": [
    {
     "data": {
      "text/html": [
       "<div>\n",
       "<style scoped>\n",
       "    .dataframe tbody tr th:only-of-type {\n",
       "        vertical-align: middle;\n",
       "    }\n",
       "\n",
       "    .dataframe tbody tr th {\n",
       "        vertical-align: top;\n",
       "    }\n",
       "\n",
       "    .dataframe thead th {\n",
       "        text-align: right;\n",
       "    }\n",
       "</style>\n",
       "<table border=\"1\" class=\"dataframe\">\n",
       "  <thead>\n",
       "    <tr style=\"text-align: right;\">\n",
       "      <th></th>\n",
       "      <th>Unnamed: 0</th>\n",
       "      <th>var_id</th>\n",
       "      <th>Hugo_Symbol</th>\n",
       "      <th>hgvs_protein</th>\n",
       "      <th>color</th>\n",
       "      <th>annotation</th>\n",
       "    </tr>\n",
       "  </thead>\n",
       "  <tbody>\n",
       "    <tr>\n",
       "      <th>0</th>\n",
       "      <td>0</td>\n",
       "      <td>2:g.215370366C&gt;T</td>\n",
       "      <td>FN1</td>\n",
       "      <td>p.Val2261Ile</td>\n",
       "      <td>red</td>\n",
       "      <td>FN1</td>\n",
       "    </tr>\n",
       "    <tr>\n",
       "      <th>1</th>\n",
       "      <td>1</td>\n",
       "      <td>6:g.31628105C&gt;A</td>\n",
       "      <td>PRRC2A</td>\n",
       "      <td>p.Thr544Lys</td>\n",
       "      <td>red</td>\n",
       "      <td>PRRC2A</td>\n",
       "    </tr>\n",
       "    <tr>\n",
       "      <th>2</th>\n",
       "      <td>2</td>\n",
       "      <td>6:g.31271324G&gt;T</td>\n",
       "      <td>HLA-C</td>\n",
       "      <td>p.Ser123Tyr</td>\n",
       "      <td>red</td>\n",
       "      <td>HLA-C</td>\n",
       "    </tr>\n",
       "    <tr>\n",
       "      <th>3</th>\n",
       "      <td>3</td>\n",
       "      <td>6:g.31271324G&gt;T</td>\n",
       "      <td>HLA-C</td>\n",
       "      <td>p.Val117Val</td>\n",
       "      <td>red</td>\n",
       "      <td>HLA-C</td>\n",
       "    </tr>\n",
       "    <tr>\n",
       "      <th>4</th>\n",
       "      <td>4</td>\n",
       "      <td>6:g.31356759T&gt;A</td>\n",
       "      <td>HLA-B</td>\n",
       "      <td>p.Tyr91Phe</td>\n",
       "      <td>red</td>\n",
       "      <td>HLA-B</td>\n",
       "    </tr>\n",
       "  </tbody>\n",
       "</table>\n",
       "</div>"
      ],
      "text/plain": [
       "   Unnamed: 0            var_id Hugo_Symbol  hgvs_protein color annotation\n",
       "0           0  2:g.215370366C>T         FN1  p.Val2261Ile   red        FN1\n",
       "1           1   6:g.31628105C>A      PRRC2A   p.Thr544Lys   red     PRRC2A\n",
       "2           2   6:g.31271324G>T       HLA-C   p.Ser123Tyr   red      HLA-C\n",
       "3           3   6:g.31271324G>T       HLA-C   p.Val117Val   red      HLA-C\n",
       "4           4   6:g.31356759T>A       HLA-B    p.Tyr91Phe   red      HLA-B"
      ]
     },
     "execution_count": 6,
     "metadata": {},
     "output_type": "execute_result"
    }
   ],
   "source": [
    "df.head()"
   ]
  },
  {
   "cell_type": "markdown",
   "metadata": {},
   "source": [
    "Filter out any variants that are not SNVs"
   ]
  },
  {
   "cell_type": "code",
   "execution_count": 7,
   "metadata": {},
   "outputs": [],
   "source": [
    "df.to_csv(output_file_name, index=False)"
   ]
  },
  {
   "cell_type": "markdown",
   "metadata": {},
   "source": [
    "## Now run the next step\n",
    "Map mutations to 3D Structure: [2-MapTo3DStructures.ipynb](./2-MapTo3DStructures.ipynb)"
   ]
  },
  {
   "cell_type": "code",
   "execution_count": null,
   "metadata": {},
   "outputs": [],
   "source": []
  }
 ],
 "metadata": {
  "kernelspec": {
   "display_name": "Python 3",
   "language": "python",
   "name": "python3"
  },
  "language_info": {
   "codemirror_mode": {
    "name": "ipython",
    "version": 3
   },
   "file_extension": ".py",
   "mimetype": "text/x-python",
   "name": "python",
   "nbconvert_exporter": "python",
   "pygments_lexer": "ipython3",
   "version": "3.7.6"
  }
 },
 "nbformat": 4,
 "nbformat_minor": 4
}
